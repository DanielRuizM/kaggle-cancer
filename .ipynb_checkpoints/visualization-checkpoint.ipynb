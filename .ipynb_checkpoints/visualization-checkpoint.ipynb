{
 "cells": [
  {
   "cell_type": "code",
   "execution_count": 1,
   "metadata": {
    "collapsed": true
   },
   "outputs": [],
   "source": [
    "from __future__ import division\n",
    "import seaborn as sns\n",
    "import matplotlib.pyplot as plt\n",
    "import matplotlib as mpl\n",
    "import numpy as np\n",
    "import pandas as pd\n",
    "import math\n",
    "from scipy import stats"
   ]
  },
  {
   "cell_type": "code",
   "execution_count": 2,
   "metadata": {
    "collapsed": false
   },
   "outputs": [
    {
     "name": "stderr",
     "output_type": "stream",
     "text": [
      "/usr/local/lib/python2.7/dist-packages/ipykernel/__main__.py:3: ParserWarning: Falling back to the 'python' engine because the 'c' engine does not support regex separators (separators > 1 char and different from '\\s+' are interpreted as regex); you can avoid this warning by specifying engine='python'.\n",
      "  app.launch_new_instance()\n",
      "/usr/local/lib/python2.7/dist-packages/ipykernel/__main__.py:4: ParserWarning: Falling back to the 'python' engine because the 'c' engine does not support regex separators (separators > 1 char and different from '\\s+' are interpreted as regex); you can avoid this warning by specifying engine='python'.\n"
     ]
    }
   ],
   "source": [
    "trainvar = pd.read_csv(\"../data/training_variants\")\n",
    "testvar = pd.read_csv(\"../data/test_variants\")\n",
    "traintext = pd.read_csv(\"../data/training_text\", sep=\"\\|\\|\", header=None, skiprows=1, names=[\"ID\",\"Text\"])\n",
    "testtext = pd.read_csv(\"../data/test_text\", sep=\"\\|\\|\", header=None, skiprows=1, names=[\"ID\",\"Text\"])"
   ]
  },
  {
   "cell_type": "code",
   "execution_count": 3,
   "metadata": {
    "collapsed": false
   },
   "outputs": [
    {
     "name": "stdout",
     "output_type": "stream",
     "text": [
      "<class 'pandas.core.frame.DataFrame'>\n",
      "RangeIndex: 3321 entries, 0 to 3320\n",
      "Data columns (total 4 columns):\n",
      "ID           3321 non-null int64\n",
      "Gene         3321 non-null object\n",
      "Variation    3321 non-null object\n",
      "Class        3321 non-null int64\n",
      "dtypes: int64(2), object(2)\n",
      "memory usage: 103.9+ KB\n",
      "None\n",
      " \n",
      "<class 'pandas.core.frame.DataFrame'>\n",
      "RangeIndex: 3321 entries, 0 to 3320\n",
      "Data columns (total 2 columns):\n",
      "ID      3321 non-null int64\n",
      "Text    3321 non-null object\n",
      "dtypes: int64(1), object(1)\n",
      "memory usage: 52.0+ KB\n",
      "None\n",
      " \n",
      "<class 'pandas.core.frame.DataFrame'>\n",
      "RangeIndex: 5668 entries, 0 to 5667\n",
      "Data columns (total 3 columns):\n",
      "ID           5668 non-null int64\n",
      "Gene         5668 non-null object\n",
      "Variation    5668 non-null object\n",
      "dtypes: int64(1), object(2)\n",
      "memory usage: 132.9+ KB\n",
      "None\n",
      " \n",
      "<class 'pandas.core.frame.DataFrame'>\n",
      "RangeIndex: 5668 entries, 0 to 5667\n",
      "Data columns (total 2 columns):\n",
      "ID      5668 non-null int64\n",
      "Text    5668 non-null object\n",
      "dtypes: int64(1), object(1)\n",
      "memory usage: 88.6+ KB\n",
      "None\n",
      " \n"
     ]
    }
   ],
   "source": [
    "for i in [trainvar, traintext, testvar, testtext]:\n",
    "    print i.info()\n",
    "    print ' '"
   ]
  },
  {
   "cell_type": "code",
   "execution_count": 4,
   "metadata": {
    "collapsed": false
   },
   "outputs": [
    {
     "name": "stdout",
     "output_type": "stream",
     "text": [
      "<class 'pandas.core.frame.DataFrame'>\n",
      "RangeIndex: 5668 entries, 0 to 5667\n",
      "Data columns (total 3 columns):\n",
      "ID           5668 non-null int64\n",
      "Gene         5668 non-null object\n",
      "Variation    5668 non-null object\n",
      "dtypes: int64(1), object(2)\n",
      "memory usage: 132.9+ KB\n"
     ]
    }
   ],
   "source": [
    "testvar.info()"
   ]
  },
  {
   "cell_type": "code",
   "execution_count": 5,
   "metadata": {
    "collapsed": false
   },
   "outputs": [
    {
     "name": "stdout",
     "output_type": "stream",
     "text": [
      "<class 'pandas.core.frame.DataFrame'>\n",
      "RangeIndex: 3321 entries, 0 to 3320\n",
      "Data columns (total 2 columns):\n",
      "ID      3321 non-null int64\n",
      "Text    3321 non-null object\n",
      "dtypes: int64(1), object(1)\n",
      "memory usage: 52.0+ KB\n"
     ]
    }
   ],
   "source": [
    "traintext.info()"
   ]
  },
  {
   "cell_type": "code",
   "execution_count": null,
   "metadata": {
    "collapsed": true
   },
   "outputs": [],
   "source": []
  },
  {
   "cell_type": "code",
   "execution_count": 6,
   "metadata": {
    "collapsed": false
   },
   "outputs": [
    {
     "data": {
      "image/png": "[encoded data removed]",
      "text/plain": [
       "<matplotlib.figure.Figure at 0x7f650eb791d0>"
      ]
     },
     "metadata": {},
     "output_type": "display_data"
    }
   ],
   "source": [
    "plt.figure()\n",
    "trainvar['Class'].hist()\n",
    "plt.show()"
   ]
  },
  {
   "cell_type": "code",
   "execution_count": 8,
   "metadata": {
    "collapsed": false
   },
   "outputs": [
    {
     "data": {
      "text/plain": [
       "0       FAM58A\n",
       "1          CBL\n",
       "2          CBL\n",
       "3          CBL\n",
       "4          CBL\n",
       "5          CBL\n",
       "6          CBL\n",
       "7          CBL\n",
       "8          CBL\n",
       "9          CBL\n",
       "10         CBL\n",
       "11         CBL\n",
       "12         CBL\n",
       "13         CBL\n",
       "14         CBL\n",
       "15         CBL\n",
       "16         CBL\n",
       "17         CBL\n",
       "18         CBL\n",
       "19         CBL\n",
       "20         CBL\n",
       "21         CBL\n",
       "22         CBL\n",
       "23         CBL\n",
       "24         CBL\n",
       "25         CBL\n",
       "26       SHOC2\n",
       "27        TERT\n",
       "28        TERT\n",
       "29        TERT\n",
       "         ...  \n",
       "3291       RET\n",
       "3292       RET\n",
       "3293       RET\n",
       "3294       RET\n",
       "3295       RET\n",
       "3296       RET\n",
       "3297     RUNX1\n",
       "3298     RUNX1\n",
       "3299     RUNX1\n",
       "3300     RUNX1\n",
       "3301     RUNX1\n",
       "3302     RUNX1\n",
       "3303     RUNX1\n",
       "3304     RUNX1\n",
       "3305     RUNX1\n",
       "3306     RUNX1\n",
       "3307     RUNX1\n",
       "3308     RUNX1\n",
       "3309     RUNX1\n",
       "3310     RUNX1\n",
       "3311     RUNX1\n",
       "3312     RUNX1\n",
       "3313     RUNX1\n",
       "3314     RUNX1\n",
       "3315     RUNX1\n",
       "3316     RUNX1\n",
       "3317     RUNX1\n",
       "3318     RUNX1\n",
       "3319     RUNX1\n",
       "3320     RUNX1\n",
       "Name: Gene, dtype: object"
      ]
     },
     "execution_count": 8,
     "metadata": {},
     "output_type": "execute_result"
    }
   ],
   "source": [
    "plt.figure(size=(12,7))\n",
    "trainvar['Class'].hist()\n",
    "plt.show()"
   ]
  },
  {
   "cell_type": "code",
   "execution_count": null,
   "metadata": {
    "collapsed": true
   },
   "outputs": [],
   "source": []
  }
 ],
 "metadata": {
  "kernelspec": {
   "display_name": "Python 2",
   "language": "python",
   "name": "python2"
  },
  "language_info": {
   "codemirror_mode": {
    "name": "ipython",
    "version": 2
   },
   "file_extension": ".py",
   "mimetype": "text/x-python",
   "name": "python",
   "nbconvert_exporter": "python",
   "pygments_lexer": "ipython2",
   "version": "2.7.12"
  }
 },
 "nbformat": 4,
 "nbformat_minor": 1
}
