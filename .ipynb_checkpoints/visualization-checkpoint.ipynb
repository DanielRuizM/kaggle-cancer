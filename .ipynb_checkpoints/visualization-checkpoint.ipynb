{
 "cells": [
  {
   "cell_type": "code",
   "execution_count": 1,
   "metadata": {
    "collapsed": false
   },
   "outputs": [
    {
     "name": "stdout",
     "output_type": "stream",
     "text": [
      "*** Introductory Examples for the NLTK Book ***\n",
      "Loading text1, ..., text9 and sent1, ..., sent9\n",
      "Type the name of the text or sentence to view it.\n",
      "Type: 'texts()' or 'sents()' to list the materials.\n",
      "text1: Moby Dick by Herman Melville 1851\n",
      "text2: Sense and Sensibility by Jane Austen 1811\n",
      "text3: The Book of Genesis\n",
      "text4: Inaugural Address Corpus\n",
      "text5: Chat Corpus\n",
      "text6: Monty Python and the Holy Grail\n",
      "text7: Wall Street Journal\n",
      "text8: Personals Corpus\n",
      "text9: The Man Who Was Thursday by G . K . Chesterton 1908\n"
     ]
    }
   ],
   "source": [
    "from __future__ import division\n",
    "import seaborn as sns\n",
    "import matplotlib.pyplot as plt\n",
    "import matplotlib as mpl\n",
    "import numpy as np\n",
    "import pandas as pd\n",
    "import math\n",
    "import collections\n",
    "import nltk\n",
    "import re\n",
    "\n",
    "from nltk.book import *\n",
    "from scipy import stats"
   ]
  },
  {
   "cell_type": "code",
   "execution_count": 2,
   "metadata": {
    "collapsed": false
   },
   "outputs": [
    {
     "name": "stderr",
     "output_type": "stream",
     "text": [
      "/usr/local/lib/python2.7/dist-packages/ipykernel/__main__.py:3: ParserWarning: Falling back to the 'python' engine because the 'c' engine does not support regex separators (separators > 1 char and different from '\\s+' are interpreted as regex); you can avoid this warning by specifying engine='python'.\n",
      "  app.launch_new_instance()\n",
      "/usr/local/lib/python2.7/dist-packages/ipykernel/__main__.py:4: ParserWarning: Falling back to the 'python' engine because the 'c' engine does not support regex separators (separators > 1 char and different from '\\s+' are interpreted as regex); you can avoid this warning by specifying engine='python'.\n"
     ]
    }
   ],
   "source": [
    "trainvar = pd.read_csv(\"../data/training_variants\")\n",
    "testvar = pd.read_csv(\"../data/test_variants\")\n",
    "traintext = pd.read_csv(\"../data/training_text\", sep=\"\\|\\|\", header=None, skiprows=1, names=[\"ID\",\"Text\"])\n",
    "testtext = pd.read_csv(\"../data/test_text\", sep=\"\\|\\|\", header=None, skiprows=1, names=[\"ID\",\"Text\"])"
   ]
  },
  {
   "cell_type": "code",
   "execution_count": 3,
   "metadata": {
    "collapsed": false
   },
   "outputs": [
    {
     "name": "stdout",
     "output_type": "stream",
     "text": [
      "<class 'pandas.core.frame.DataFrame'>\n",
      "RangeIndex: 3321 entries, 0 to 3320\n",
      "Data columns (total 4 columns):\n",
      "ID           3321 non-null int64\n",
      "Gene         3321 non-null object\n",
      "Variation    3321 non-null object\n",
      "Class        3321 non-null int64\n",
      "dtypes: int64(2), object(2)\n",
      "memory usage: 103.9+ KB\n",
      "None\n",
      " \n",
      "<class 'pandas.core.frame.DataFrame'>\n",
      "RangeIndex: 3321 entries, 0 to 3320\n",
      "Data columns (total 2 columns):\n",
      "ID      3321 non-null int64\n",
      "Text    3321 non-null object\n",
      "dtypes: int64(1), object(1)\n",
      "memory usage: 52.0+ KB\n",
      "None\n",
      " \n",
      "<class 'pandas.core.frame.DataFrame'>\n",
      "RangeIndex: 5668 entries, 0 to 5667\n",
      "Data columns (total 3 columns):\n",
      "ID           5668 non-null int64\n",
      "Gene         5668 non-null object\n",
      "Variation    5668 non-null object\n",
      "dtypes: int64(1), object(2)\n",
      "memory usage: 132.9+ KB\n",
      "None\n",
      " \n",
      "<class 'pandas.core.frame.DataFrame'>\n",
      "RangeIndex: 5668 entries, 0 to 5667\n",
      "Data columns (total 2 columns):\n",
      "ID      5668 non-null int64\n",
      "Text    5668 non-null object\n",
      "dtypes: int64(1), object(1)\n",
      "memory usage: 88.6+ KB\n",
      "None\n",
      " \n"
     ]
    }
   ],
   "source": [
    "for i in [trainvar, traintext, testvar, testtext]:\n",
    "    print i.info()\n",
    "    print ' '"
   ]
  },
  {
   "cell_type": "code",
   "execution_count": 4,
   "metadata": {
    "collapsed": false
   },
   "outputs": [
    {
     "name": "stdout",
     "output_type": "stream",
     "text": [
      "<class 'pandas.core.frame.DataFrame'>\n",
      "RangeIndex: 5668 entries, 0 to 5667\n",
      "Data columns (total 3 columns):\n",
      "ID           5668 non-null int64\n",
      "Gene         5668 non-null object\n",
      "Variation    5668 non-null object\n",
      "dtypes: int64(1), object(2)\n",
      "memory usage: 132.9+ KB\n"
     ]
    }
   ],
   "source": [
    "testvar.info()"
   ]
  },
  {
   "cell_type": "code",
   "execution_count": 5,
   "metadata": {
    "collapsed": false
   },
   "outputs": [
    {
     "name": "stdout",
     "output_type": "stream",
     "text": [
      "<class 'pandas.core.frame.DataFrame'>\n",
      "RangeIndex: 3321 entries, 0 to 3320\n",
      "Data columns (total 2 columns):\n",
      "ID      3321 non-null int64\n",
      "Text    3321 non-null object\n",
      "dtypes: int64(1), object(1)\n",
      "memory usage: 52.0+ KB\n"
     ]
    }
   ],
   "source": [
    "traintext.info()"
   ]
  },
  {
   "cell_type": "code",
   "execution_count": null,
   "metadata": {
    "collapsed": true
   },
   "outputs": [],
   "source": []
  },
  {
   "cell_type": "code",
   "execution_count": 6,
   "metadata": {
    "collapsed": false
   },
   "outputs": [
    {
     "data": {
      "image/png": "[encoded data removed]",
      "text/plain": [
       "<matplotlib.figure.Figure at 0x7fd1cb56e910>"
      ]
     },
     "metadata": {},
     "output_type": "display_data"
    }
   ],
   "source": [
    "plt.figure()\n",
    "trainvar['Class'].hist()\n",
    "plt.show()"
   ]
  },
  {
   "cell_type": "code",
   "execution_count": 7,
   "metadata": {
    "collapsed": false
   },
   "outputs": [
    {
     "data": {
      "text/plain": [
       "2996"
      ]
     },
     "execution_count": 7,
     "metadata": {},
     "output_type": "execute_result"
    }
   ],
   "source": [
    "len(trainvar['Variation'].value_counts())"
   ]
  },
  {
   "cell_type": "code",
   "execution_count": 8,
   "metadata": {
    "collapsed": false
   },
   "outputs": [
    {
     "data": {
      "text/plain": [
       "264"
      ]
     },
     "execution_count": 8,
     "metadata": {},
     "output_type": "execute_result"
    }
   ],
   "source": [
    "len(trainvar['Gene'].value_counts())"
   ]
  },
  {
   "cell_type": "code",
   "execution_count": 9,
   "metadata": {
    "collapsed": false
   },
   "outputs": [
    {
     "data": {
      "image/png": "[encoded data removed]",
      "text/plain": [
       "<matplotlib.figure.Figure at 0x7fd1c9432cd0>"
      ]
     },
     "metadata": {},
     "output_type": "display_data"
    }
   ],
   "source": [
    "plt.figure()\n",
    "trainvar['Gene'].value_counts().plot(kind='bar')\n",
    "plt.show()"
   ]
  },
  {
   "cell_type": "code",
   "execution_count": 10,
   "metadata": {
    "collapsed": false
   },
   "outputs": [
    {
     "data": {
      "text/html": [
       "<div>\n",
       "<table border=\"1\" class=\"dataframe\">\n",
       "  <thead>\n",
       "    <tr style=\"text-align: right;\">\n",
       "      <th></th>\n",
       "      <th>ID</th>\n",
       "      <th>Text</th>\n",
       "    </tr>\n",
       "  </thead>\n",
       "  <tbody>\n",
       "    <tr>\n",
       "      <th>0</th>\n",
       "      <td>0</td>\n",
       "      <td>Cyclin-dependent kinases (CDKs) regulate a var...</td>\n",
       "    </tr>\n",
       "    <tr>\n",
       "      <th>1</th>\n",
       "      <td>1</td>\n",
       "      <td>Abstract Background  Non-small cell lung canc...</td>\n",
       "    </tr>\n",
       "    <tr>\n",
       "      <th>2</th>\n",
       "      <td>2</td>\n",
       "      <td>Abstract Background  Non-small cell lung canc...</td>\n",
       "    </tr>\n",
       "    <tr>\n",
       "      <th>3</th>\n",
       "      <td>3</td>\n",
       "      <td>Recent evidence has demonstrated that acquired...</td>\n",
       "    </tr>\n",
       "    <tr>\n",
       "      <th>4</th>\n",
       "      <td>4</td>\n",
       "      <td>Oncogenic mutations in the monomeric Casitas B...</td>\n",
       "    </tr>\n",
       "  </tbody>\n",
       "</table>\n",
       "</div>"
      ],
      "text/plain": [
       "   ID                                               Text\n",
       "0   0  Cyclin-dependent kinases (CDKs) regulate a var...\n",
       "1   1   Abstract Background  Non-small cell lung canc...\n",
       "2   2   Abstract Background  Non-small cell lung canc...\n",
       "3   3  Recent evidence has demonstrated that acquired...\n",
       "4   4  Oncogenic mutations in the monomeric Casitas B..."
      ]
     },
     "execution_count": 10,
     "metadata": {},
     "output_type": "execute_result"
    }
   ],
   "source": [
    "traintext.head()"
   ]
  },
  {
   "cell_type": "markdown",
   "metadata": {},
   "source": [
    "Aqui separo una de las instancias y monto un diccionario con las variables para hacer pruebas con ella mas rapido. Luego se pueden aplicar las funciones del tiron al dataframe sin mucho problema."
   ]
  },
  {
   "cell_type": "code",
   "execution_count": 11,
   "metadata": {
    "collapsed": true
   },
   "outputs": [],
   "source": [
    "pruebad = trainvar.iloc[1].to_dict()"
   ]
  },
  {
   "cell_type": "markdown",
   "metadata": {},
   "source": [
    "Creo un objeto ntlk.text con el texto grande para hacer operaciones"
   ]
  },
  {
   "cell_type": "code",
   "execution_count": 36,
   "metadata": {
    "collapsed": false
   },
   "outputs": [],
   "source": [
    "raw = traintext.iloc[1,1].decode(\"utf8\")\n",
    "tokens = nltk.word_tokenize(raw)\n",
    "pruebad['text'] = nltk.Text(tokens)\n",
    "text = pruebad['text']"
   ]
  },
  {
   "cell_type": "code",
   "execution_count": 13,
   "metadata": {
    "collapsed": false
   },
   "outputs": [
    {
     "data": {
      "text/plain": [
       "{'Class': 2,\n",
       " 'Gene': 'CBL',\n",
       " 'ID': 1,\n",
       " 'Variation': 'W802*',\n",
       " 'text': <Text: Abstract Background Non-small cell lung cancer ( NSCLC...>}"
      ]
     },
     "execution_count": 13,
     "metadata": {},
     "output_type": "execute_result"
    }
   ],
   "source": [
    "pruebad"
   ]
  },
  {
   "cell_type": "code",
   "execution_count": 14,
   "metadata": {
    "collapsed": false
   },
   "outputs": [
    {
     "name": "stdout",
     "output_type": "stream",
     "text": [
      "Displaying 8 of 8 matches:\n",
      "                                     NSCLC ) is a heterogeneous group of disord\n",
      "GFR and MET ) , and functionality in NSCLC . Methods and Findings Using archiva\n",
      "ples , respectively ) transfected in NSCLC cell lines , there was increased cel\n",
      " in lung cancer . As an example , in NSCLC , mutations in KRAS , p53 , EGFR and\n",
      "vely . Expressing these mutations in NSCLC cell lines lead to increased prolife\n",
      "9 African-Americans and 40 Taiwanese NSCLC patients who were recruited at the U\n",
      "encompasses different histologies of NSCLC . However , the published series did\n",
      "at encompassed different subtypes of NSCLC . It is important to note , we have \n"
     ]
    }
   ],
   "source": [
    "text.concordance('NSCLC')"
   ]
  },
  {
   "cell_type": "code",
   "execution_count": 15,
   "metadata": {
    "collapsed": false
   },
   "outputs": [
    {
     "data": {
      "image/png": "[encoded data removed]",
      "text/plain": [
       "<matplotlib.figure.Figure at 0x7fd1cb56e850>"
      ]
     },
     "metadata": {},
     "output_type": "display_data"
    }
   ],
   "source": [
    "text.dispersion_plot([\"NSCLC\", \"c-CBL\", pruebad['Gene'], pruebad['Variation']])"
   ]
  },
  {
   "cell_type": "markdown",
   "metadata": {},
   "source": [
    "Se puede buscar la frecuencia de algunos terminos (por ejemplo, los valores del resto de variables asociadas al ID). El grafico de arriba no funciona por ser demasiado poco frecuentes. Por un momento pensaba que habia algunos puntos, pero era suciedad de mi pantalla xD"
   ]
  },
  {
   "cell_type": "code",
   "execution_count": 16,
   "metadata": {
    "collapsed": false
   },
   "outputs": [
    {
     "data": {
      "text/plain": [
       "6784"
      ]
     },
     "execution_count": 16,
     "metadata": {},
     "output_type": "execute_result"
    }
   ],
   "source": [
    "# num palabras\n",
    "len(text)"
   ]
  },
  {
   "cell_type": "code",
   "execution_count": 17,
   "metadata": {
    "collapsed": false
   },
   "outputs": [
    {
     "data": {
      "text/plain": [
       "1574"
      ]
     },
     "execution_count": 17,
     "metadata": {},
     "output_type": "execute_result"
    }
   ],
   "source": [
    "# num palabras distintas\n",
    "len(set(text))"
   ]
  },
  {
   "cell_type": "code",
   "execution_count": 18,
   "metadata": {
    "collapsed": true
   },
   "outputs": [],
   "source": [
    "# % de ocurrencias de una palabra en un texto\n",
    "def word_pct(word, source): \n",
    "        word_count = source.count(word)\n",
    "        word_total = len(source)\n",
    "        return word_count / word_total"
   ]
  },
  {
   "cell_type": "code",
   "execution_count": 19,
   "metadata": {
    "collapsed": false
   },
   "outputs": [
    {
     "name": "stdout",
     "output_type": "stream",
     "text": [
      "CBL   0.000737028301887\n",
      "W802*   0.00191627358491\n",
      "NSCLC   0.00117924528302\n"
     ]
    }
   ],
   "source": [
    "for i in [pruebad['Gene'], pruebad['Variation'], \"NSCLC\"]:\n",
    "    print i + '   ' + str(word_pct(i, text))"
   ]
  },
  {
   "cell_type": "code",
   "execution_count": 20,
   "metadata": {
    "collapsed": false,
    "scrolled": true
   },
   "outputs": [
    {
     "data": {
      "text/plain": [
       "[(u',', 315),\n",
       " (u'.', 248),\n",
       " (u'the', 244),\n",
       " (u'and', 204),\n",
       " (u'in', 181),\n",
       " (u'of', 181),\n",
       " (u'c-CBL', 152),\n",
       " (u'(', 128),\n",
       " (u')', 128),\n",
       " (u'were', 98),\n",
       " (u'to', 79),\n",
       " (u'with', 68),\n",
       " (u'that', 65),\n",
       " (u'mutations', 63),\n",
       " (u'[', 62),\n",
       " (u']', 62),\n",
       " (u'for', 60),\n",
       " (u'a', 56),\n",
       " (u'was', 54),\n",
       " (u'lung', 53),\n",
       " (u'EGFR', 43),\n",
       " (u'is', 41),\n",
       " (u'cell', 41),\n",
       " (u'mutation', 40),\n",
       " (u'%', 39),\n",
       " (u'The', 37),\n",
       " (u'at', 36),\n",
       " (u'MET', 33),\n",
       " (u'as', 32),\n",
       " (u'cells', 32),\n",
       " (u'cancer', 31),\n",
       " (u'samples', 31),\n",
       " (u'or', 31),\n",
       " (u'LOH', 29),\n",
       " (u'are', 27),\n",
       " (u'Figure', 26),\n",
       " (u'patients', 26),\n",
       " (u'1', 25),\n",
       " (u'by', 24),\n",
       " (u'from', 24),\n",
       " (u'domain', 23),\n",
       " (u'on', 23),\n",
       " (u'In', 22),\n",
       " (u';', 22),\n",
       " (u'using', 21),\n",
       " (u'an', 21),\n",
       " (u'mutants', 20),\n",
       " (u'also', 19),\n",
       " (u'we', 18),\n",
       " (u'not', 18),\n",
       " (u'tumor', 18),\n",
       " (u'Taiwanese', 17),\n",
       " (u'=', 17),\n",
       " (u'2', 16),\n",
       " (u'5', 16),\n",
       " (u'have', 16),\n",
       " (u'three', 15),\n",
       " (u'10', 15),\n",
       " (u'We', 15),\n",
       " (u'region', 15),\n",
       " (u'different', 15),\n",
       " (u'study', 14),\n",
       " (u'had', 14),\n",
       " (u'cancers', 14),\n",
       " (u'shown', 14),\n",
       " (u'3', 14),\n",
       " (u'transfected', 13),\n",
       " (u'finger', 13),\n",
       " (u'DNA', 13),\n",
       " (u'W802*', 13),\n",
       " (u'S80N/H94Y', 13),\n",
       " (u'activity', 13),\n",
       " (u'Q249E', 13),\n",
       " (u'be', 13),\n",
       " (u'RING', 13),\n",
       " (u'cycle', 12),\n",
       " (u'p', 12),\n",
       " (u'these', 12),\n",
       " (u'E3', 12),\n",
       " (u'African-Americans', 11),\n",
       " (u'number', 11),\n",
       " (u'ubiquitination', 11),\n",
       " (u':', 11),\n",
       " (u'results', 11),\n",
       " (u'identified', 11),\n",
       " (u'important', 11),\n",
       " (u'but', 11),\n",
       " (u'compared', 11),\n",
       " (u'each', 10),\n",
       " (u'RTKs', 10),\n",
       " (u'performed', 10),\n",
       " (u'normal', 10),\n",
       " (u'significant', 10),\n",
       " (u'respectively', 10),\n",
       " (u'this', 10),\n",
       " (u'TKB', 9),\n",
       " (u'it', 9),\n",
       " (u'PCR', 9),\n",
       " (u'one', 9),\n",
       " (u'analyzed', 9)]"
      ]
     },
     "execution_count": 20,
     "metadata": {},
     "output_type": "execute_result"
    }
   ],
   "source": [
    "# distribucion de frecuencias\n",
    "\n",
    "FreqDist(text).most_common(100)"
   ]
  },
  {
   "cell_type": "markdown",
   "metadata": {},
   "source": [
    "La distribucion de frecuencias devuelve casi todo conjunciones, puntos y demas. Habra que tratar eso, pero hasta entonces puede ser de utilidad sacar que posicion ocupan las palabras importantes (como los valores del resto de variables) dentro de la distribucion"
   ]
  },
  {
   "cell_type": "code",
   "execution_count": 21,
   "metadata": {
    "collapsed": false
   },
   "outputs": [
    {
     "name": "stdout",
     "output_type": "stream",
     "text": [
      "c-CBL   152\n",
      "W802*   13\n",
      "NSCLC   8\n"
     ]
    }
   ],
   "source": [
    "for i in [('c-'+pruebad['Gene']), pruebad['Variation'], \"NSCLC\"]:\n",
    "    print i + '   ' + str(FreqDist(text)[i]) # (esto no es la posicion, solo el num de ocurrencias)"
   ]
  },
  {
   "cell_type": "code",
   "execution_count": 22,
   "metadata": {
    "collapsed": false
   },
   "outputs": [
    {
     "name": "stdout",
     "output_type": "stream",
     "text": [
      "lung cancer; RING finger; lung cancers; linker region; mutually\n",
      "exclusive; finger domain; empty vector; tyrosine kinase; cell cycle;\n",
      "cell viability; c-CBL mutations; TKB domain; relatively high; cycle\n",
      "analysis; tumor samples; Applied Biosystems; Institutional Review;\n",
      "Review Board; Santa Cruz; cell lines\n"
     ]
    }
   ],
   "source": [
    "text.collocations()"
   ]
  },
  {
   "cell_type": "code",
   "execution_count": 23,
   "metadata": {
    "collapsed": false
   },
   "outputs": [],
   "source": [
    "# funcion para buscar secuencias de palabras frecuentes en un texto, mediante puntuacion basada en frecuencia\n",
    "# revidef seq_likelihood(palabra, texto):\n",
    "\n",
    "def seq_likelihood(palabra, texto):\n",
    "    \n",
    "    bgm = nltk.collocations.BigramAssocMeasures()\n",
    "    finder = nltk.collocations.BigramCollocationFinder.from_words(texto)\n",
    "    scored = finder.score_ngrams(bgm.likelihood_ratio)\n",
    "                                 \n",
    "    prefix_keys = collections.defaultdict(list)\n",
    "    for key, scores in scored:\n",
    "       prefix_keys[key[0]].append((key[1], scores))\n",
    "\n",
    "    for key in prefix_keys:\n",
    "       prefix_keys[key].sort(key = lambda x: -x[1])\n",
    "\n",
    "     # para cada palabra, devuelve las palabras con asociacion mas fuerte\n",
    "    return prefix_keys[palabra]"
   ]
  },
  {
   "cell_type": "code",
   "execution_count": 24,
   "metadata": {
    "collapsed": false
   },
   "outputs": [
    {
     "name": "stdout",
     "output_type": "stream",
     "text": [
      "CBL [(u'desensitizes', 14.640472706658189), (u'proteins', 10.823747578979427), (u'was', 4.743911804322819), (u'(', 3.0954963570306213), (u'in', 2.4642411632765384)]\n",
      " \n",
      "W802* [(u'along', 12.593573242952118), (u'CBL', 7.603718753384383), (u'showed', 7.603718753384383), (u'were', 6.141421478806411), (u'mutants', 4.720344435456406), (u',', 2.169110626788604), (u'(', 1.3513698765810949), (u'c-CBL', 1.093203102953184), (u'in', 0.8481830405496855), (u'of', 0.8481830405496855)]\n",
      " \n",
      "NSCLC [(u'cell', 11.60547173059517), (u'.', 9.671590005070417), (u'patients', 5.19066728173911), (u')', 2.1846955896753144), (u',', 0.7781291723742936)]\n",
      " \n",
      "c-CBL [(u'mutations', 59.470443528129884), (u'mutants', 41.84789781411666), (u'locus', 34.489441305221526), (u'knockdown', 32.78415302805862), (u'gene', 22.941499047807252), (u'Gene', 22.848927052765315), (u'mutation', 22.540121523192603), (u'LOH', 22.397045634275166), (u'protein', 19.577636430619688), (u'Alterations', 15.219608920903847)]\n",
      " \n",
      "lung [(u'cancer', 226.36391180590942), (u'cancers', 94.67564246423694), (u'tumor', 44.98236543025914), (u'tumors', 29.28396392457616), (u'tissue', 12.799154054428595), (u'oncogenome', 9.722900837983593), (u'tissues', 5.934603428627981), (u'adenocarcinoma', 5.270404500165654), (u'tumorigenesis', 5.270404500165654), (u'carcinoma', 4.780460920366384)]\n",
      " \n"
     ]
    }
   ],
   "source": [
    "# top 10 de asociaciones de palabras para algunas variables y otras\n",
    "\n",
    "for i in [pruebad['Gene'], pruebad['Variation'], \"NSCLC\", 'c-CBL', 'lung']:\n",
    "    lista = seq_likelihood(i, text)\n",
    "    print i, lista[:10]\n",
    "    print ' '\n"
   ]
  },
  {
   "cell_type": "markdown",
   "metadata": {},
   "source": [
    "Prueba eliminacion afijos"
   ]
  },
  {
   "cell_type": "code",
   "execution_count": 33,
   "metadata": {
    "collapsed": false
   },
   "outputs": [],
   "source": [
    "porter = nltk.PorterStemmer()\n",
    "lancaster = nltk.LancasterStemmer()"
   ]
  },
  {
   "cell_type": "code",
   "execution_count": 38,
   "metadata": {
    "collapsed": false
   },
   "outputs": [],
   "source": [
    "porterstem = [porter.stem(t) for t in tokens]\n",
    "lancstem = [lancaster.stem(t) for t in tokens]"
   ]
  },
  {
   "cell_type": "code",
   "execution_count": 43,
   "metadata": {
    "collapsed": false
   },
   "outputs": [
    {
     "name": "stdout",
     "output_type": "stream",
     "text": [
      "background background\n",
      "non-smal non-small\n",
      "cell cel\n",
      "lung lung\n",
      "cancer cant\n",
      "( (\n",
      "nsclc nsclc\n",
      ") )\n",
      "is is\n",
      "a a\n",
      "heterogen heterog\n",
      "group group\n",
      "of of\n",
      "disord disord\n",
      "with with\n",
      "a a\n",
      "number numb\n",
      "of of\n",
      "genet genet\n"
     ]
    }
   ],
   "source": [
    "# funciona fatal esto\n",
    "for i in range(1,20):\n",
    "    print porterstem[i], lancstem[i]"
   ]
  },
  {
   "cell_type": "markdown",
   "metadata": {},
   "source": [
    "Aqui podriamos buscar las \"palabras especiales\" como numeros, acronimos, etc, y asignar todos a un mismo valor."
   ]
  },
  {
   "cell_type": "code",
   "execution_count": null,
   "metadata": {
    "collapsed": true
   },
   "outputs": [],
   "source": []
  }
 ],
 "metadata": {
  "kernelspec": {
   "display_name": "Python 2",
   "language": "python",
   "name": "python2"
  },
  "language_info": {
   "codemirror_mode": {
    "name": "ipython",
    "version": 2
   },
   "file_extension": ".py",
   "mimetype": "text/x-python",
   "name": "python",
   "nbconvert_exporter": "python",
   "pygments_lexer": "ipython2",
   "version": "2.7.12"
  }
 },
 "nbformat": 4,
 "nbformat_minor": 1
}
